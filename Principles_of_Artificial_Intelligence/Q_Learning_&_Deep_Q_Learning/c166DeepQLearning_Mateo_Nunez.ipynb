{
  "cells": [
    {
      "cell_type": "code",
      "execution_count": 1,
      "metadata": {
        "colab": {
          "base_uri": "https://localhost:8080/"
        },
        "id": "OJQUvyAlEC42",
        "outputId": "6567454f-41b2-434a-f197-8266fe2f3f50"
      },
      "outputs": [
        {
          "output_type": "stream",
          "name": "stdout",
          "text": [
            "Collecting gymnasium\n",
            "  Downloading gymnasium-0.29.1-py3-none-any.whl.metadata (10 kB)\n",
            "Requirement already satisfied: numpy>=1.21.0 in /usr/local/lib/python3.10/dist-packages (from gymnasium) (1.26.4)\n",
            "Requirement already satisfied: cloudpickle>=1.2.0 in /usr/local/lib/python3.10/dist-packages (from gymnasium) (3.0.0)\n",
            "Requirement already satisfied: typing-extensions>=4.3.0 in /usr/local/lib/python3.10/dist-packages (from gymnasium) (4.12.2)\n",
            "Collecting farama-notifications>=0.0.1 (from gymnasium)\n",
            "  Downloading Farama_Notifications-0.0.4-py3-none-any.whl.metadata (558 bytes)\n",
            "Downloading gymnasium-0.29.1-py3-none-any.whl (953 kB)\n",
            "\u001b[2K   \u001b[90m━━━━━━━━━━━━━━━━━━━━━━━━━━━━━━━━━━━━━━━━\u001b[0m \u001b[32m953.9/953.9 kB\u001b[0m \u001b[31m9.9 MB/s\u001b[0m eta \u001b[36m0:00:00\u001b[0m\n",
            "\u001b[?25hDownloading Farama_Notifications-0.0.4-py3-none-any.whl (2.5 kB)\n",
            "Installing collected packages: farama-notifications, gymnasium\n",
            "Successfully installed farama-notifications-0.0.4 gymnasium-0.29.1\n"
          ]
        }
      ],
      "source": [
        "!pip install gymnasium"
      ]
    },
    {
      "cell_type": "code",
      "execution_count": 46,
      "metadata": {
        "colab": {
          "base_uri": "https://localhost:8080/"
        },
        "id": "lGN-Jy0lD2g9",
        "outputId": "4df2120a-ce7d-4c28-fbab-42508b8de9c8"
      },
      "outputs": [
        {
          "output_type": "stream",
          "name": "stdout",
          "text": [
            "Num GPUs Available:  0\n",
            "Num CPUs Available:  1\n"
          ]
        }
      ],
      "source": [
        "import random, time\n",
        "from collections import deque, namedtuple\n",
        "\n",
        "import gymnasium as gym\n",
        "import numpy as np\n",
        "import tensorflow as tf\n",
        "print(\"Num GPUs Available: \", len(tf.config.list_physical_devices('GPU')))\n",
        "print(\"Num CPUs Available: \", len(tf.config.list_physical_devices('CPU')))\n",
        "\n",
        "from tqdm.auto import tqdm\n",
        "\n",
        "n_episodes = 30  # play 30 games\n",
        "eps = 1.0  # exploration rate, probability of choosing random action\n",
        "eps_decay = 0.9900  # eps gets multiplied by this number each epoch...\n",
        "min_eps = 0.1  # ...until this minimum eps is reached\n",
        "gamma = 0.90  # discount\n",
        "max_memory_size = 10000  # size of the replay memory\n",
        "batch_size = 16  # batch size of the neural network training\n",
        "min_length = 160  # minimum length of the replay memory for training, before it reached this length, no gradient updates happen\n",
        "memory_parts = [\n",
        "    \"state\",\n",
        "    \"action\",\n",
        "    \"next_state\",\n",
        "    \"reward\",\n",
        "    \"done\",\n",
        "]  # nice names for the part of replay memory, otherweise the names are 0-5"
      ]
    },
    {
      "cell_type": "code",
      "execution_count": 47,
      "metadata": {
        "colab": {
          "base_uri": "https://localhost:8080/"
        },
        "id": "xJjoVUSFZ3Yp",
        "outputId": "61f8ce5b-c8fd-4c6d-916c-63be9e599316"
      },
      "outputs": [
        {
          "output_type": "stream",
          "name": "stdout",
          "text": [
            "Drive already mounted at /content/drive; to attempt to forcibly remount, call drive.mount(\"/content/drive\", force_remount=True).\n"
          ]
        }
      ],
      "source": [
        "from google.colab import drive\n",
        "drive.mount('/content/drive')"
      ]
    },
    {
      "cell_type": "markdown",
      "source": [
        "# Learning A Model"
      ],
      "metadata": {
        "id": "3RZqb4JV7Ag2"
      }
    },
    {
      "cell_type": "code",
      "execution_count": 48,
      "metadata": {
        "id": "hERWxJ3jEMMH"
      },
      "outputs": [],
      "source": [
        "Memory = namedtuple(\"Memory\", memory_parts)  # a single entry of the memory replay\n",
        "\n",
        "\n",
        "class ReplayMemory:\n",
        "    def __init__(self, max_length=None):\n",
        "        self.max_length = max_length\n",
        "        self.memory = deque(maxlen=max_length)\n",
        "\n",
        "    def store(self, data):\n",
        "        self.memory.append(data)\n",
        "\n",
        "    def _sample(self, k):\n",
        "        return random.sample(self.memory, k)\n",
        "\n",
        "    def structured_sample(self, k):\n",
        "        batch = self._sample(k)\n",
        "        result = {}\n",
        "        for i, part in enumerate(memory_parts):\n",
        "            result[part] = np.array([row[i] for row in batch])\n",
        "\n",
        "        return result\n",
        "\n",
        "    def __len__(self):\n",
        "        return len(self.memory)"
      ]
    },
    {
      "cell_type": "code",
      "execution_count": 49,
      "metadata": {
        "id": "AWYz3_bUETMT"
      },
      "outputs": [],
      "source": [
        "model = tf.keras.Sequential(\n",
        "    [\n",
        "        tf.keras.layers.Input(shape=(4,)),  # Define input shape with Input layer\n",
        "        tf.keras.layers.Dense(128, activation=\"relu\"),\n",
        "        tf.keras.layers.Dense(64, activation=\"relu\"),\n",
        "        tf.keras.layers.Dense(16, activation=\"relu\"),\n",
        "        tf.keras.layers.Dense(2, activation=\"linear\"),  # 2 actions: go left or go right\n",
        "    ]\n",
        ")\n",
        "model.compile(\n",
        "    loss=tf.keras.losses.MeanSquaredError(),\n",
        "    optimizer=tf.keras.optimizers.Adam(learning_rate=0.01),\n",
        ")"
      ]
    },
    {
      "cell_type": "code",
      "execution_count": 50,
      "metadata": {
        "colab": {
          "base_uri": "https://localhost:8080/",
          "height": 84,
          "referenced_widgets": [
            "973f46306bf043d18c3306dfd402bf6f",
            "57412947f5434d9990cf96373dd2f08b",
            "44fc8384e3c743ba81ca1574544a9c4b",
            "211e8825f8b04162bdd12cc579792061",
            "6ba24a16ae78452fa489fb2abfb5feac",
            "0ecfdc3222704bfcbfeeb0bd019be6d7",
            "6b2108c6951b459a90d9b2b664795702",
            "3933d3c46bf945a6aea3e6bd9b59f9a3",
            "6ce28f583e0e4193b48dab621a10f799",
            "e1287a5a3c0c4cd3b8732b112f81d01c",
            "f15323e64b784367a34b151531ecb4fe"
          ]
        },
        "id": "A3tUkXVAEzOI",
        "outputId": "f40ecd07-285b-40b5-f157-4c70467ffb76"
      },
      "outputs": [
        {
          "output_type": "display_data",
          "data": {
            "text/plain": [
              "  0%|          | 0/30 [00:00<?, ?it/s]"
            ],
            "application/vnd.jupyter.widget-view+json": {
              "version_major": 2,
              "version_minor": 0,
              "model_id": "973f46306bf043d18c3306dfd402bf6f"
            }
          },
          "metadata": {}
        },
        {
          "output_type": "stream",
          "name": "stdout",
          "text": [
            "/content/drive/My Drive/my_QmodelB_0iterations.keras\n",
            "/content/drive/My Drive/my_QmodelB_29iterations.keras\n"
          ]
        }
      ],
      "source": [
        "env = gym.make(\"CartPole-v1\")\n",
        "replay_memory = ReplayMemory(max_length=max_memory_size)\n",
        "\n",
        "for episode in tqdm(range(n_episodes)):  # tqdm makes a nice proress bar\n",
        "    state, _ = env.reset()\n",
        "    done = False\n",
        "\n",
        "    while not done:\n",
        "        if random.random() < eps:\n",
        "            action = env.action_space.sample()  # random action\n",
        "        else:\n",
        "            action = model.predict(state[np.newaxis, :], verbose=False).argmax()  # best action according to the model\n",
        "\n",
        "        next_state, reward, done, _, _ = env.step(action)\n",
        "        memory = Memory(state, action, next_state, reward, done)\n",
        "        replay_memory.store(memory)\n",
        "\n",
        "        if len(replay_memory) >= min_length:\n",
        "            batch = replay_memory.structured_sample(batch_size)  # get samples from the replay memory\n",
        "\n",
        "            target_batch = batch[\"reward\"] + gamma * model.predict(batch[\"next_state\"], verbose=False).max(axis=1) * (\n",
        "                1 - batch[\"done\"]\n",
        "            )  # R(s, a) + γ·maxₐ N(s') if not a terminal state, otherwise R(s, a)\n",
        "            targets = model.predict(batch[\"state\"], verbose=False)\n",
        "            targets[\n",
        "                range(batch_size), batch[\"action\"]\n",
        "            ] = target_batch  # set the target for the action that was done and leave the outputs of other 3 actions as they are\n",
        "\n",
        "            model.fit(batch[\"state\"], targets, verbose=False, batch_size=batch_size)  # train for one epoch\n",
        "\n",
        "        state = next_state\n",
        "    if episode % 100 == 0:\n",
        "      save_path = '/content/drive/My Drive/my_QmodelB_{}iterations.keras'.format(episode)\n",
        "      print (save_path)\n",
        "      model.save(save_path)\n",
        "    eps = max(min_eps, eps * eps_decay)\n",
        "save_path = '/content/drive/My Drive/my_QmodelB_{}iterations.keras'.format(episode)\n",
        "print (save_path)\n",
        "model.save(save_path)"
      ]
    },
    {
      "cell_type": "code",
      "source": [
        "eps_decay = 0.9900\n",
        "min_eps = 0.01\n",
        "eps = 1.0\n",
        "for i in range(1000):\n",
        "  eps = max(min_eps, eps * eps_decay)\n",
        "  if (i % 10==0):\n",
        "    print (i, eps)\n",
        "\n",
        "print(eps)"
      ],
      "metadata": {
        "colab": {
          "base_uri": "https://localhost:8080/"
        },
        "id": "3fqH3YTuBFo2",
        "outputId": "20699842-f592-4b09-a37e-c798028eb4db"
      },
      "execution_count": 51,
      "outputs": [
        {
          "output_type": "stream",
          "name": "stdout",
          "text": [
            "0 0.99\n",
            "10 0.8953382542587163\n",
            "20 0.8097278682212583\n",
            "30 0.7323033696543974\n",
            "40 0.6622820409839835\n",
            "50 0.5989560064661611\n",
            "60 0.5416850759668536\n",
            "70 0.4898902730042049\n",
            "80 0.44304798162617254\n",
            "90 0.40068465295154065\n",
            "100 0.36237201786049694\n",
            "110 0.3277227574378037\n",
            "120 0.2963865873992079\n",
            "130 0.26804671691687404\n",
            "140 0.24241664604458016\n",
            "150 0.21923726936647234\n",
            "160 0.19827425658891445\n",
            "170 0.17931568359471056\n",
            "180 0.16216989001100657\n",
            "190 0.1466635416321037\n",
            "200 0.13263987810938213\n",
            "210 0.11995712819347792\n",
            "220 0.10848707650771475\n",
            "230 0.09811376736368599\n",
            "240 0.08873233251530144\n",
            "250 0.08024793100055952\n",
            "260 0.07257479035344938\n",
            "270 0.06563533949318151\n",
            "280 0.05935942452475082\n",
            "290 0.05368359952302266\n",
            "300 0.0485504851305729\n",
            "310 0.043908188485071616\n",
            "320 0.03970977861200675\n",
            "330 0.03591281197926689\n",
            "340 0.032478903417210436\n",
            "350 0.029373338066467324\n",
            "360 0.02656472043048682\n",
            "370 0.024024656984952448\n",
            "380 0.021727469135426065\n",
            "390 0.019649933621386378\n",
            "400 0.017771047742294682\n",
            "410 0.016071817032256998\n",
            "420 0.01453506323679443\n",
            "430 0.013145250650476335\n",
            "440 0.011888329059788623\n",
            "450 0.010751591703479106\n",
            "460 0.01\n",
            "470 0.01\n",
            "480 0.01\n",
            "490 0.01\n",
            "500 0.01\n",
            "510 0.01\n",
            "520 0.01\n",
            "530 0.01\n",
            "540 0.01\n",
            "550 0.01\n",
            "560 0.01\n",
            "570 0.01\n",
            "580 0.01\n",
            "590 0.01\n",
            "600 0.01\n",
            "610 0.01\n",
            "620 0.01\n",
            "630 0.01\n",
            "640 0.01\n",
            "650 0.01\n",
            "660 0.01\n",
            "670 0.01\n",
            "680 0.01\n",
            "690 0.01\n",
            "700 0.01\n",
            "710 0.01\n",
            "720 0.01\n",
            "730 0.01\n",
            "740 0.01\n",
            "750 0.01\n",
            "760 0.01\n",
            "770 0.01\n",
            "780 0.01\n",
            "790 0.01\n",
            "800 0.01\n",
            "810 0.01\n",
            "820 0.01\n",
            "830 0.01\n",
            "840 0.01\n",
            "850 0.01\n",
            "860 0.01\n",
            "870 0.01\n",
            "880 0.01\n",
            "890 0.01\n",
            "900 0.01\n",
            "910 0.01\n",
            "920 0.01\n",
            "930 0.01\n",
            "940 0.01\n",
            "950 0.01\n",
            "960 0.01\n",
            "970 0.01\n",
            "980 0.01\n",
            "990 0.01\n",
            "0.01\n"
          ]
        }
      ]
    },
    {
      "cell_type": "markdown",
      "source": [
        "# Test Learned Models"
      ],
      "metadata": {
        "id": "o3iVpRrR5AK9"
      }
    },
    {
      "cell_type": "code",
      "source": [
        "## Choose Model\n",
        "version = 1\n",
        "models = [(0, '1qE_-qnJERonxGoGQTgm3UiRIIPpPUxnD'), (29, '1-1AiiK8BADbLNjCtCwJtZCTDBsRWSDZo')]\n",
        "\n",
        "!gdown {models[version][1]}\n",
        "save_path=f'my_QmodelB_{models[version][0]}iterations.keras'\n",
        "print(save_path)"
      ],
      "metadata": {
        "colab": {
          "base_uri": "https://localhost:8080/"
        },
        "id": "9rrki-w45Wsu",
        "outputId": "94759dcf-b344-4512-9bb5-8020b04062cd"
      },
      "execution_count": 52,
      "outputs": [
        {
          "output_type": "stream",
          "name": "stdout",
          "text": [
            "Downloading...\n",
            "From: https://drive.google.com/uc?id=1-1AiiK8BADbLNjCtCwJtZCTDBsRWSDZo\n",
            "To: /content/my_QmodelB_29iterations.keras\n",
            "\r  0% 0.00/148k [00:00<?, ?B/s]\r100% 148k/148k [00:00<00:00, 18.0MB/s]\n",
            "my_QmodelB_29iterations.keras\n"
          ]
        }
      ]
    },
    {
      "cell_type": "code",
      "source": [
        "import matplotlib.pyplot as plt\n",
        "import gymnasium as gym\n",
        "import tensorflow as tf\n",
        "\n",
        "from tensorflow.keras.models import load_model\n",
        "\n",
        "model = load_model(save_path, compile=False)\n",
        "model.compile(\n",
        "    loss=tf.keras.losses.MeanSquaredError(),\n",
        "    optimizer=tf.keras.optimizers.Adam(learning_rate=0.01),\n",
        ")"
      ],
      "metadata": {
        "id": "uovqNleA7SB4"
      },
      "execution_count": 53,
      "outputs": []
    },
    {
      "cell_type": "code",
      "execution_count": 54,
      "metadata": {
        "colab": {
          "base_uri": "https://localhost:8080/",
          "height": 792
        },
        "id": "_vnZPrO0W4c3",
        "outputId": "17a32e63-c170-4d70-843a-85904508f453"
      },
      "outputs": [
        {
          "output_type": "display_data",
          "data": {
            "text/plain": [
              "<Figure size 640x480 with 1 Axes>"
            ],
            "image/png": "[encoded data removed]"
          },
          "metadata": {}
        },
        {
          "output_type": "stream",
          "name": "stdout",
          "text": [
            "action=1, total_reward=1.0\n"
          ]
        },
        {
          "output_type": "display_data",
          "data": {
            "text/plain": [
              "<Figure size 640x480 with 1 Axes>"
            ],
            "image/png": "[encoded data removed]"
          },
          "metadata": {}
        }
      ],
      "source": [
        "env = gym.make(\"CartPole-v1\", render_mode=\"rgb_array\")\n",
        "state, _ = env.reset()\n",
        "done = False\n",
        "total_reward = 0\n",
        "state_image=env.render()\n",
        "plt.imshow(state_image)\n",
        "plt.show()\n",
        "\n",
        "state_image=env.render()\n",
        "action = model.predict(state[np.newaxis, :], verbose=False).argmax(axis=1)[0]\n",
        "state, reward, done, _, _ = env.step(action)\n",
        "total_reward += reward\n",
        "print (f\"{action=}, {total_reward=}\")\n",
        "state_image=env.render()\n",
        "plt.imshow(state_image)\n",
        "plt.show()"
      ]
    },
    {
      "cell_type": "code",
      "source": [
        "env = gym.make(\"CartPole-v1\", render_mode=\"human\")\n",
        "\n",
        "state, _ = env.reset()\n",
        "done = False\n",
        "total_reward = 0\n",
        "\n",
        "while not done and total_reward < 500:  # force end the game after 500 time steps because the model is too good!\n",
        "    env.render()\n",
        "    action = model.predict(state[np.newaxis, :], verbose=False).argmax(axis=1)[0]\n",
        "    state, reward, done, _, _ = env.step(action)\n",
        "    total_reward += reward\n",
        "\n",
        "env.close()\n",
        "print (f\"{total_reward=}\")"
      ],
      "metadata": {
        "colab": {
          "base_uri": "https://localhost:8080/"
        },
        "id": "dBZ3Dkjf67DV",
        "outputId": "83d8877c-9d31-4252-c4aa-951b56703eab"
      },
      "execution_count": 55,
      "outputs": [
        {
          "output_type": "stream",
          "name": "stdout",
          "text": [
            "total_reward=10.0\n"
          ]
        }
      ]
    },
    {
      "cell_type": "code",
      "execution_count": 21,
      "metadata": {
        "id": "-zerAhDxXOC6"
      },
      "outputs": [],
      "source": [
        "env.close()"
      ]
    },
    {
      "cell_type": "markdown",
      "source": [
        "##Discussion##\n",
        "The 3 changes I made were the following:\n",
        "\n",
        "**Changes in Model Definition**\n",
        "\n",
        "The original model definition in the starter code was set to 1000. However, this is a high number of episodes to be run in the cloud. To do a comparable analysis I first run the model with 20 episodes and then increased it to 30.\n",
        "\n",
        "With 20 episodes, I obtained a reward of 8 which is overall a low reward. With the change to 30 episodes, my reward increased to 11. This can lead me to think that the higher the episodes, the higher the reward is going to be. It is accurate to assume that with the proposed 1000 episodes, the reward would be even higher.\n",
        "\n",
        "**Epsilon Decay Changes**\n",
        "\n",
        "The original epsilon decay was set to 0.9975. With this epsilon decay, the convergence happens after 990 episodes.\n",
        "\n",
        "With the change that made epsilon decay to be 0.9900, the convergence changes and happens at around 460 episodes. Note that with this decrease in epsilon decays, I got to increase the reward from 11 to 17 with the same 30 episodes. This is because the convergence happened faster\n",
        "\n",
        "**Gamma Changes**\n",
        "For this 3rd change, I reduced the gamma from 0.95 to 0.9. Note that until now, with a gamma of 0.95 the highest reward I was able to get was 17. When dicreasing the gamma to 0.9 the reward decreased to 10. This is because gamma represents a bigger loss with each episode. This may be due to that the model tried way too many different transitions in the exploration and since the loss was higher, the final reward was lower."
      ],
      "metadata": {
        "id": "YJyn5yblkxb-"
      }
    }
  ],
  "metadata": {
    "colab": {
      "provenance": [],
      "machine_shape": "hm",
      "gpuType": "V28"
    },
    "kernelspec": {
      "display_name": "Python 3",
      "name": "python3"
    },
    "language_info": {
      "name": "python"
    },
    "widgets": {
      "application/vnd.jupyter.widget-state+json": {
        "973f46306bf043d18c3306dfd402bf6f": {
          "model_module": "@jupyter-widgets/controls",
          "model_name": "HBoxModel",
          "model_module_version": "1.5.0",
          "state": {
            "_dom_classes": [],
            "_model_module": "@jupyter-widgets/controls",
            "_model_module_version": "1.5.0",
            "_model_name": "HBoxModel",
            "_view_count": null,
            "_view_module": "@jupyter-widgets/controls",
            "_view_module_version": "1.5.0",
            "_view_name": "HBoxView",
            "box_style": "",
            "children": [
              "IPY_MODEL_57412947f5434d9990cf96373dd2f08b",
              "IPY_MODEL_44fc8384e3c743ba81ca1574544a9c4b",
              "IPY_MODEL_211e8825f8b04162bdd12cc579792061"
            ],
            "layout": "IPY_MODEL_6ba24a16ae78452fa489fb2abfb5feac"
          }
        },
        "57412947f5434d9990cf96373dd2f08b": {
          "model_module": "@jupyter-widgets/controls",
          "model_name": "HTMLModel",
          "model_module_version": "1.5.0",
          "state": {
            "_dom_classes": [],
            "_model_module": "@jupyter-widgets/controls",
            "_model_module_version": "1.5.0",
            "_model_name": "HTMLModel",
            "_view_count": null,
            "_view_module": "@jupyter-widgets/controls",
            "_view_module_version": "1.5.0",
            "_view_name": "HTMLView",
            "description": "",
            "description_tooltip": null,
            "layout": "IPY_MODEL_0ecfdc3222704bfcbfeeb0bd019be6d7",
            "placeholder": "​",
            "style": "IPY_MODEL_6b2108c6951b459a90d9b2b664795702",
            "value": "100%"
          }
        },
        "44fc8384e3c743ba81ca1574544a9c4b": {
          "model_module": "@jupyter-widgets/controls",
          "model_name": "FloatProgressModel",
          "model_module_version": "1.5.0",
          "state": {
            "_dom_classes": [],
            "_model_module": "@jupyter-widgets/controls",
            "_model_module_version": "1.5.0",
            "_model_name": "FloatProgressModel",
            "_view_count": null,
            "_view_module": "@jupyter-widgets/controls",
            "_view_module_version": "1.5.0",
            "_view_name": "ProgressView",
            "bar_style": "success",
            "description": "",
            "description_tooltip": null,
            "layout": "IPY_MODEL_3933d3c46bf945a6aea3e6bd9b59f9a3",
            "max": 30,
            "min": 0,
            "orientation": "horizontal",
            "style": "IPY_MODEL_6ce28f583e0e4193b48dab621a10f799",
            "value": 30
          }
        },
        "211e8825f8b04162bdd12cc579792061": {
          "model_module": "@jupyter-widgets/controls",
          "model_name": "HTMLModel",
          "model_module_version": "1.5.0",
          "state": {
            "_dom_classes": [],
            "_model_module": "@jupyter-widgets/controls",
            "_model_module_version": "1.5.0",
            "_model_name": "HTMLModel",
            "_view_count": null,
            "_view_module": "@jupyter-widgets/controls",
            "_view_module_version": "1.5.0",
            "_view_name": "HTMLView",
            "description": "",
            "description_tooltip": null,
            "layout": "IPY_MODEL_e1287a5a3c0c4cd3b8732b112f81d01c",
            "placeholder": "​",
            "style": "IPY_MODEL_f15323e64b784367a34b151531ecb4fe",
            "value": " 30/30 [01:50&lt;00:00,  7.88s/it]"
          }
        },
        "6ba24a16ae78452fa489fb2abfb5feac": {
          "model_module": "@jupyter-widgets/base",
          "model_name": "LayoutModel",
          "model_module_version": "1.2.0",
          "state": {
            "_model_module": "@jupyter-widgets/base",
            "_model_module_version": "1.2.0",
            "_model_name": "LayoutModel",
            "_view_count": null,
            "_view_module": "@jupyter-widgets/base",
            "_view_module_version": "1.2.0",
            "_view_name": "LayoutView",
            "align_content": null,
            "align_items": null,
            "align_self": null,
            "border": null,
            "bottom": null,
            "display": null,
            "flex": null,
            "flex_flow": null,
            "grid_area": null,
            "grid_auto_columns": null,
            "grid_auto_flow": null,
            "grid_auto_rows": null,
            "grid_column": null,
            "grid_gap": null,
            "grid_row": null,
            "grid_template_areas": null,
            "grid_template_columns": null,
            "grid_template_rows": null,
            "height": null,
            "justify_content": null,
            "justify_items": null,
            "left": null,
            "margin": null,
            "max_height": null,
            "max_width": null,
            "min_height": null,
            "min_width": null,
            "object_fit": null,
            "object_position": null,
            "order": null,
            "overflow": null,
            "overflow_x": null,
            "overflow_y": null,
            "padding": null,
            "right": null,
            "top": null,
            "visibility": null,
            "width": null
          }
        },
        "0ecfdc3222704bfcbfeeb0bd019be6d7": {
          "model_module": "@jupyter-widgets/base",
          "model_name": "LayoutModel",
          "model_module_version": "1.2.0",
          "state": {
            "_model_module": "@jupyter-widgets/base",
            "_model_module_version": "1.2.0",
            "_model_name": "LayoutModel",
            "_view_count": null,
            "_view_module": "@jupyter-widgets/base",
            "_view_module_version": "1.2.0",
            "_view_name": "LayoutView",
            "align_content": null,
            "align_items": null,
            "align_self": null,
            "border": null,
            "bottom": null,
            "display": null,
            "flex": null,
            "flex_flow": null,
            "grid_area": null,
            "grid_auto_columns": null,
            "grid_auto_flow": null,
            "grid_auto_rows": null,
            "grid_column": null,
            "grid_gap": null,
            "grid_row": null,
            "grid_template_areas": null,
            "grid_template_columns": null,
            "grid_template_rows": null,
            "height": null,
            "justify_content": null,
            "justify_items": null,
            "left": null,
            "margin": null,
            "max_height": null,
            "max_width": null,
            "min_height": null,
            "min_width": null,
            "object_fit": null,
            "object_position": null,
            "order": null,
            "overflow": null,
            "overflow_x": null,
            "overflow_y": null,
            "padding": null,
            "right": null,
            "top": null,
            "visibility": null,
            "width": null
          }
        },
        "6b2108c6951b459a90d9b2b664795702": {
          "model_module": "@jupyter-widgets/controls",
          "model_name": "DescriptionStyleModel",
          "model_module_version": "1.5.0",
          "state": {
            "_model_module": "@jupyter-widgets/controls",
            "_model_module_version": "1.5.0",
            "_model_name": "DescriptionStyleModel",
            "_view_count": null,
            "_view_module": "@jupyter-widgets/base",
            "_view_module_version": "1.2.0",
            "_view_name": "StyleView",
            "description_width": ""
          }
        },
        "3933d3c46bf945a6aea3e6bd9b59f9a3": {
          "model_module": "@jupyter-widgets/base",
          "model_name": "LayoutModel",
          "model_module_version": "1.2.0",
          "state": {
            "_model_module": "@jupyter-widgets/base",
            "_model_module_version": "1.2.0",
            "_model_name": "LayoutModel",
            "_view_count": null,
            "_view_module": "@jupyter-widgets/base",
            "_view_module_version": "1.2.0",
            "_view_name": "LayoutView",
            "align_content": null,
            "align_items": null,
            "align_self": null,
            "border": null,
            "bottom": null,
            "display": null,
            "flex": null,
            "flex_flow": null,
            "grid_area": null,
            "grid_auto_columns": null,
            "grid_auto_flow": null,
            "grid_auto_rows": null,
            "grid_column": null,
            "grid_gap": null,
            "grid_row": null,
            "grid_template_areas": null,
            "grid_template_columns": null,
            "grid_template_rows": null,
            "height": null,
            "justify_content": null,
            "justify_items": null,
            "left": null,
            "margin": null,
            "max_height": null,
            "max_width": null,
            "min_height": null,
            "min_width": null,
            "object_fit": null,
            "object_position": null,
            "order": null,
            "overflow": null,
            "overflow_x": null,
            "overflow_y": null,
            "padding": null,
            "right": null,
            "top": null,
            "visibility": null,
            "width": null
          }
        },
        "6ce28f583e0e4193b48dab621a10f799": {
          "model_module": "@jupyter-widgets/controls",
          "model_name": "ProgressStyleModel",
          "model_module_version": "1.5.0",
          "state": {
            "_model_module": "@jupyter-widgets/controls",
            "_model_module_version": "1.5.0",
            "_model_name": "ProgressStyleModel",
            "_view_count": null,
            "_view_module": "@jupyter-widgets/base",
            "_view_module_version": "1.2.0",
            "_view_name": "StyleView",
            "bar_color": null,
            "description_width": ""
          }
        },
        "e1287a5a3c0c4cd3b8732b112f81d01c": {
          "model_module": "@jupyter-widgets/base",
          "model_name": "LayoutModel",
          "model_module_version": "1.2.0",
          "state": {
            "_model_module": "@jupyter-widgets/base",
            "_model_module_version": "1.2.0",
            "_model_name": "LayoutModel",
            "_view_count": null,
            "_view_module": "@jupyter-widgets/base",
            "_view_module_version": "1.2.0",
            "_view_name": "LayoutView",
            "align_content": null,
            "align_items": null,
            "align_self": null,
            "border": null,
            "bottom": null,
            "display": null,
            "flex": null,
            "flex_flow": null,
            "grid_area": null,
            "grid_auto_columns": null,
            "grid_auto_flow": null,
            "grid_auto_rows": null,
            "grid_column": null,
            "grid_gap": null,
            "grid_row": null,
            "grid_template_areas": null,
            "grid_template_columns": null,
            "grid_template_rows": null,
            "height": null,
            "justify_content": null,
            "justify_items": null,
            "left": null,
            "margin": null,
            "max_height": null,
            "max_width": null,
            "min_height": null,
            "min_width": null,
            "object_fit": null,
            "object_position": null,
            "order": null,
            "overflow": null,
            "overflow_x": null,
            "overflow_y": null,
            "padding": null,
            "right": null,
            "top": null,
            "visibility": null,
            "width": null
          }
        },
        "f15323e64b784367a34b151531ecb4fe": {
          "model_module": "@jupyter-widgets/controls",
          "model_name": "DescriptionStyleModel",
          "model_module_version": "1.5.0",
          "state": {
            "_model_module": "@jupyter-widgets/controls",
            "_model_module_version": "1.5.0",
            "_model_name": "DescriptionStyleModel",
            "_view_count": null,
            "_view_module": "@jupyter-widgets/base",
            "_view_module_version": "1.2.0",
            "_view_name": "StyleView",
            "description_width": ""
          }
        }
      }
    },
    "accelerator": "TPU"
  },
  "nbformat": 4,
  "nbformat_minor": 0
}